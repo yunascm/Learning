{
 "cells": [
  {
   "cell_type": "code",
   "execution_count": 1,
   "metadata": {},
   "outputs": [
    {
     "name": "stderr",
     "output_type": "stream",
     "text": [
      "/home/yunas/anaconda3/lib/python3.6/site-packages/h5py/__init__.py:36: FutureWarning: Conversion of the second argument of issubdtype from `float` to `np.floating` is deprecated. In future, it will be treated as `np.float64 == np.dtype(float).type`.\n",
      "  from ._conv import register_converters as _register_converters\n"
     ]
    }
   ],
   "source": [
    "import tensorflow as tf\n",
    "import numpy as np\n",
    "import matplotlib\n",
    "import matplotlib.pyplot as plt\n",
    "import matplotlib.animation as animation"
   ]
  },
  {
   "cell_type": "code",
   "execution_count": 2,
   "metadata": {},
   "outputs": [],
   "source": [
    "house_num = 160\n"
   ]
  },
  {
   "cell_type": "code",
   "execution_count": 4,
   "metadata": {},
   "outputs": [],
   "source": [
    "np.random.seed(42)\n",
    "house_size = np.random.randint(low=900, high=3000, size=house_num)"
   ]
  },
  {
   "cell_type": "code",
   "execution_count": 9,
   "metadata": {},
   "outputs": [],
   "source": [
    "np.random.seed(42)\n",
    "house_price=house_size*100 + np.random.randint(low=10000, high=50000, size=house_num)"
   ]
  },
  {
   "cell_type": "code",
   "execution_count": 11,
   "metadata": {},
   "outputs": [],
   "source": [
    "%matplotlib inline"
   ]
  },
  {
   "cell_type": "code",
   "execution_count": 12,
   "metadata": {},
   "outputs": [
    {
     "data": {
      "image/png": "[encoded data removed]",
      "text/plain": [
       "<matplotlib.figure.Figure at 0x7ff03e2bccc0>"
      ]
     },
     "metadata": {},
     "output_type": "display_data"
    }
   ],
   "source": [
    "plt.plot(house_size, house_price, \"bx\")\n",
    "plt.xlabel(\"size\")\n",
    "plt.ylabel(\"price\")\n",
    "plt.show()"
   ]
  },
  {
   "cell_type": "code",
   "execution_count": 24,
   "metadata": {},
   "outputs": [],
   "source": [
    "def normalize(array):\n",
    "    return (array - array.mean())/array.std()\n",
    "import math"
   ]
  },
  {
   "cell_type": "code",
   "execution_count": 25,
   "metadata": {},
   "outputs": [],
   "source": [
    "train_samples = math.floor(house_num*.7)"
   ]
  },
  {
   "cell_type": "code",
   "execution_count": 26,
   "metadata": {},
   "outputs": [],
   "source": [
    "train_house_size= np.asarray(house_size[:train_samples])\n",
    "train_house_price= np.asanyarray(house_price[:train_samples:])"
   ]
  },
  {
   "cell_type": "code",
   "execution_count": 27,
   "metadata": {},
   "outputs": [
    {
     "data": {
      "text/plain": [
       "(112,)"
      ]
     },
     "execution_count": 27,
     "metadata": {},
     "output_type": "execute_result"
    }
   ],
   "source": [
    "train_house_size.shape"
   ]
  },
  {
   "cell_type": "code",
   "execution_count": 28,
   "metadata": {},
   "outputs": [],
   "source": [
    "train_house_size_norm = normalize(train_house_size)\n",
    "train_house_price_norm = normalize(train_house_price)"
   ]
  },
  {
   "cell_type": "code",
   "execution_count": 29,
   "metadata": {},
   "outputs": [],
   "source": [
    "test_house_price = np.array(house_price[train_samples:])\n",
    "test_house_size= np.array(house_size[train_samples:])"
   ]
  },
  {
   "cell_type": "code",
   "execution_count": 32,
   "metadata": {},
   "outputs": [],
   "source": [
    "test_house_price_norm = normalize(test_house_price)\n",
    "test_house_size_norm = normalize(test_house_size)\n",
    "                                "
   ]
  },
  {
   "cell_type": "code",
   "execution_count": 33,
   "metadata": {},
   "outputs": [],
   "source": [
    "tf_size = tf.placeholder(\"float\", name=\"size\")\n",
    "tf_price = tf.placeholder(\"float\", name=\"price\")"
   ]
  },
  {
   "cell_type": "code",
   "execution_count": 36,
   "metadata": {},
   "outputs": [],
   "source": [
    "tf_size_factor = tf.Variable(np.random.randn(), name=\"size_factor\")\n",
    "tf_price_factor = tf.Variable(np.random.randn(), name=\"price_factor\")"
   ]
  },
  {
   "cell_type": "code",
   "execution_count": 38,
   "metadata": {},
   "outputs": [],
   "source": [
    "tf_price_pred = tf.add(tf.multiply(tf_size_factor,tf_size ), tf_price_factor)\n",
    "tf_cost = tf.reduce_sum(tf.pow(tf_price_pred-tf_price, 2))/(2*train_samples)"
   ]
  },
  {
   "cell_type": "code",
   "execution_count": 39,
   "metadata": {},
   "outputs": [],
   "source": [
    "learning_rate = 0.1"
   ]
  },
  {
   "cell_type": "code",
   "execution_count": null,
   "metadata": {},
   "outputs": [],
   "source": []
  },
  {
   "cell_type": "code",
   "execution_count": 42,
   "metadata": {},
   "outputs": [],
   "source": [
    "optimizer = tf.train.GradientDescentOptimizer(learning_rate).minimize(tf_cost)"
   ]
  },
  {
   "cell_type": "code",
   "execution_count": 46,
   "metadata": {},
   "outputs": [],
   "source": [
    "init = tf.global_variables_initializer()"
   ]
  },
  {
   "cell_type": "code",
   "execution_count": 51,
   "metadata": {},
   "outputs": [
    {
     "name": "stdout",
     "output_type": "stream",
     "text": [
      "iteration # : 0002 cost  1.291951 size_factor=  0.1627548 price_offset -1.3698007\n",
      "iteration # : 0004 cost  0.872067 size_factor=  0.3111412 price_offset -1.1211833\n",
      "iteration # : 0006 cost  0.590761 size_factor=  0.43258527 price_offset -0.9176628\n",
      "iteration # : 0008 cost  0.402300 size_factor=  0.5319789 price_offset -0.7510581\n",
      "iteration # : 0010 cost  0.276046 size_factor=  0.6133264 price_offset -0.61467326\n",
      "iteration # : 0012 cost  0.191468 size_factor=  0.6799034 price_offset -0.503026\n",
      "iteration # : 0014 cost  0.134812 size_factor=  0.7343918 price_offset -0.41163036\n",
      "iteration # : 0016 cost  0.096863 size_factor=  0.7789872 price_offset -0.33681235\n",
      "iteration # : 0018 cost  0.071446 size_factor=  0.81548584 price_offset -0.27556512\n",
      "iteration # : 0020 cost  0.054423 size_factor=  0.84535766 price_offset -0.22542742\n",
      "iteration # : 0022 cost  0.043025 size_factor=  0.8698046 price_offset -0.18438406\n",
      "iteration # : 0024 cost  0.035393 size_factor=  0.88981336 price_offset -0.15078542\n",
      "iteration # : 0026 cost  0.030284 size_factor=  0.90618914 price_offset -0.123280995\n",
      "iteration # : 0028 cost  0.026865 size_factor=  0.919591 price_offset -0.100765474\n",
      "iteration # : 0030 cost  0.024577 size_factor=  0.9305602 price_offset -0.08233399\n",
      "iteration # : 0032 cost  0.023047 size_factor=  0.93953794 price_offset -0.067245685\n",
      "iteration # : 0034 cost  0.022023 size_factor=  0.9468855 price_offset -0.0548942\n",
      "iteration # : 0036 cost  0.021340 size_factor=  0.9528988 price_offset -0.044783115\n",
      "iteration # : 0038 cost  0.020883 size_factor=  0.95782006 price_offset -0.036506023\n",
      "iteration # : 0040 cost  0.020578 size_factor=  0.961848 price_offset -0.02973027\n",
      "iteration # : 0042 cost  0.020374 size_factor=  0.96514463 price_offset -0.02418353\n",
      "iteration # : 0044 cost  0.020239 size_factor=  0.96784264 price_offset -0.019642912\n",
      "iteration # : 0046 cost  0.020149 size_factor=  0.97005135 price_offset -0.015925886\n",
      "iteration # : 0048 cost  0.020089 size_factor=  0.97185886 price_offset -0.012883075\n",
      "iteration # : 0050 cost  0.020049 size_factor=  0.97333795 price_offset -0.010392174\n",
      "Optimation comppleted\n",
      "Training_cost =  0.020049386 size_factor=  0.97333795 price_offset -0.010392174\n"
     ]
    }
   ],
   "source": [
    "with tf.Session() as sess:\n",
    "    sess.run(init)\n",
    "    display_every = 2\n",
    "    train_iter = 50\n",
    "    for iteration in range(train_iter):\n",
    "        for (x,y) in zip(train_house_size_norm, train_house_price_norm):\n",
    "            sess.run(optimizer, feed_dict = {tf_size: x, tf_price:y})\n",
    "        if (iteration+1)%display_every ==0 :\n",
    "            c = sess.run(tf_cost, feed_dict= {tf_size:train_house_size_norm, tf_price:train_house_price_norm })\n",
    "            print(\"iteration # :\", '%04d' %(iteration +1), \"cost\" , \"{:9f}\".format(c), \\\n",
    "                 \"size_factor= \", sess.run(tf_size_factor), \"price_offset\", sess.run(tf_price_factor))\n",
    "            \n",
    "    print(\"Optimation comppleted\")\n",
    "    train_cost = sess.run(tf_cost, feed_dict = {tf_size:train_house_size_norm, tf_price:train_house_price_norm })\n",
    "    print(\"Training_cost = \" , train_cost, \"size_factor= \", sess.run(tf_size_factor), \"price_offset\", sess.run(tf_price_factor ))"
   ]
  },
  {
   "cell_type": "code",
   "execution_count": null,
   "metadata": {},
   "outputs": [],
   "source": []
  }
 ],
 "metadata": {
  "kernelspec": {
   "display_name": "Python 3",
   "language": "python",
   "name": "python3"
  },
  "language_info": {
   "codemirror_mode": {
    "name": "ipython",
    "version": 3
   },
   "file_extension": ".py",
   "mimetype": "text/x-python",
   "name": "python",
   "nbconvert_exporter": "python",
   "pygments_lexer": "ipython3",
   "version": "3.6.4"
  }
 },
 "nbformat": 4,
 "nbformat_minor": 2
}
